{
 "cells": [
  {
   "cell_type": "markdown",
   "metadata": {},
   "source": [
    "このブログは[Hugo](https://gohugo.io/)というStatic Site Generatorで生成しています。おおむね不満はないのですが、最近[Jupyter Notebook](http://jupyter-notebook.readthedocs.io/en/latest/)をHugoのコンテンツとして扱いたいという欲求が出てきました。\n",
    "\n",
    "ざっと調べたところ、HugoでJupyter Notebookを表示するには[jupyter nbconvert](https://github.com/jupyter/nbconvert)を使う方法が一般的なようです。[^1]\n",
    "\n",
    "```bash\n",
    "jupyter nbconvert --to markdown path/to/notebook.ipynb\n",
    "```\n",
    "\n",
    "これでJupyter NotebookがMarkdownに変換されます。これをコピペすれば目的を達成できます。ですが、いちいちMarkdownに変換してコピペするのは面倒ですし、`hugo server -w`などでリアルタイムプレビューできないのも不便です。\n",
    "\n",
    "HugoはHTMLもコンテンツとして扱えますが、それでも`jupyter nbconvert`で変換する必要があるため`.ipynb`ファイルと2重管理になっていまいます。\n",
    "\n",
    "「そうじゃない、私は`.ipynb`をそのままHugoのコンテンツとして扱いたいんだ！」\n",
    "\n",
    "そういう強い想いによって、今回紹介するJupyter Notebook自体を直接Hugoのコンテンツとして表示できるようにする *Jupyter Notebook Handler for Hugo* が生まれました。"
   ]
  },
  {
   "cell_type": "markdown",
   "metadata": {},
   "source": [
    "## Jupyter Notebook Handler for Hugo\n",
    "\n",
    "https://github.com/naoina/hugo-jupyter-handler\n",
    "\n",
    "HugoはMarkdownやAsciiDocをコンテンツとして使えます。それらはHandlerとして実装され、コンパイルタイムプラグインとしてHugoに組み込まれています。[^2]\n",
    "この機構を使ってJupyter Notebookをコンテンツとして使えるようにしました。"
   ]
  },
  {
   "cell_type": "markdown",
   "metadata": {},
   "source": [
    "## 使い方\n",
    "\n",
    "### 準備\n",
    "\n",
    "まずはJupyter Notebook Handlerをインストールします。\n",
    "\n",
    "```bash\n",
    "go get -u -v github.com/naoina/hugo-jupyter-handler\n",
    "```\n",
    "\n",
    "次に`.ipynb`ファイルを用意します。この記事を見ているかたならばいくつも持ってると思うので問題ないですね。"
   ]
  },
  {
   "cell_type": "markdown",
   "metadata": {},
   "source": [
    "### `frontmatter`メタデータを設定する\n",
    "\n",
    "`.ipynb`ファイルを開き、*Edit* → *Edit Notebook Metadata* から`frontmatter`メタデータを設定します。\n",
    "\n",
    "```json\n",
    "{\n",
    "  \"frontmatter\": {\n",
    "    \"title\": \"Jupyter NotebookをHugoのコンテンツとして使う方法\",\n",
    "    \"date\": \"2017-07-26T11:51:30+09:00\",\n",
    "    \"tags\": [\n",
    "      \"Jupyter Notebook\",\n",
    "      \"Hugo\",\n",
    "      \"Go\"\n",
    "    ]\n",
    "  },\n",
    "  \"kernelspec\": {\n",
    "    \"name\": \"python3\",\n",
    "    \"display_name\": \"Python 3\",\n",
    "    \"language\": \"python\"\n",
    "  },\n",
    "  \"language_info\": {\n",
    "    \"name\": \"python\",\n",
    "    \"version\": \"3.6.1\",\n",
    "    \"mimetype\": \"text/x-python\",\n",
    "    \"codemirror_mode\": {\n",
    "      \"name\": \"ipython\",\n",
    "      \"version\": 3\n",
    "    },\n",
    "    \"pygments_lexer\": \"ipython3\",\n",
    "    \"nbconvert_exporter\": \"python\",\n",
    "    \"file_extension\": \".py\"\n",
    "  }\n",
    "}\n",
    "```\n",
    "\n",
    "`.ipynb`ファイルの中身はJSONなので、適当なテキストエディタで`.ipynb`ファイルを開いて編集してもいいでしょう。\n",
    "設定した`frontmatter`メタデータはそのままHugoの[Frontmatter](https://gohugo.io/content-management/front-matter/)として使われます。"
   ]
  },
  {
   "cell_type": "markdown",
   "metadata": {},
   "source": [
    "### コンテンツディレクトリに配置する\n",
    "\n",
    "`frontmatter`メタデータを設定した`.ipynb`ファイルをHugoサイトのコンテンツディレクトリに配置します。通常は`content/`以下です。"
   ]
  },
  {
   "cell_type": "markdown",
   "metadata": {},
   "source": [
    "### Hugo CLIにJupyter Notebook Handlerをコンパイルタイムプラグインとして組み込む\n",
    "\n",
    "下記コードをHugoサイトのルートディレクトリに`hugo.go`として配置します。ここでは`hugo.go`としますが、ファイル名は何でもいいです。\n",
    "\n",
    "```go\n",
    "package main\n",
    "\n",
    "import (\n",
    "\t\"os\"\n",
    "\t\"runtime\"\n",
    "\n",
    "\t\"github.com/gohugoio/hugo/commands\"\n",
    "\tjww \"github.com/spf13/jwalterweatherman\"\n",
    "\n",
    "\t_ \"github.com/naoina/hugo-jupyter-handler\"\n",
    ")\n",
    "\n",
    "func main() {\n",
    "\truntime.GOMAXPROCS(runtime.NumCPU())\n",
    "\tcommands.Execute()\n",
    "\tif jww.LogCountForLevelsGreaterThanorEqualTo(jww.LevelError) > 0 {\n",
    "\t\tos.Exit(-1)\n",
    "\t}\n",
    "\n",
    "\tif commands.Hugo != nil {\n",
    "\t\tif commands.Hugo.Log.LogCountForLevelsGreaterThanorEqualTo(jww.LevelError) > 0 {\n",
    "\t\t\tos.Exit(-1)\n",
    "\t\t}\n",
    "\t}\n",
    "}\n",
    "```\n",
    "\n",
    "このコードをHugo CLIの代わりに使います。\n",
    "\n",
    "```bash\n",
    "go run hugo.go server -w\n",
    "```\n",
    "\n",
    "また、Jupyter Notebook Handlerを組み込んだ独自のHugo CLIとしてビルドして使用してもかまいません。こちらのほうが毎回コンパイルが走らないぶん起動が速いです。\n",
    "\n",
    "```bash\n",
    "go build -o hugo\n",
    "./hugo server -w\n",
    "```"
   ]
  },
  {
   "cell_type": "markdown",
   "metadata": {},
   "source": [
    "## 表示\n",
    "\n",
    "実際に`.ipynb`から生成したものが今見ているこのブログ記事です。この記事は\n",
    "\n",
    "https://github.com/naoina/kuune.org/blob/master/content/text/how-to-use-jupyter-notebook-as-hugo-content.ipynb\n",
    "\n",
    "とJupyter Notebook Handlerを組み込んだHugoによって生成されています。\n",
    "\n",
    "試しにコードも書いてみます。\n",
    "これが"
   ]
  },
  {
   "attachments": {
    "a19313f.png": {
     "image/png": "[encoded data removed]"
    }
   },
   "cell_type": "markdown",
   "metadata": {},
   "source": [
    "![a19313f.png](attachment:a19313f.png)"
   ]
  },
  {
   "cell_type": "markdown",
   "metadata": {},
   "source": [
    "こうなります。"
   ]
  },
  {
   "cell_type": "code",
   "execution_count": 1,
   "metadata": {},
   "outputs": [
    {
     "name": "stdout",
     "output_type": "stream",
     "text": [
      "Hello World!\n"
     ]
    }
   ],
   "source": [
    "import sys\n",
    "\n",
    "def main():\n",
    "    sys.stdout.write(\"Hello World!\\n\")\n",
    "    \n",
    "if __name__ == '__main__':\n",
    "    main()に"
   ]
  },
  {
   "cell_type": "markdown",
   "metadata": {},
   "source": [
    "便利！"
   ]
  },
  {
   "cell_type": "markdown",
   "metadata": {},
   "source": [
    "## まとめ\n",
    "\n",
    "Jupyter Notebookはすこぶる便利なので、Jupyter Notebookで書いたコードをそのままブログ記事にしたいということが稀によくあります。そんなときでもHugoでJupyter Notebookが表示できるようになると、動かないコードを載せてしまうことが無くなったり、検証結果の図などを簡単にブログ記事に載せることが可能になって素晴らしくはかどります。みなさんもHugo + Jupyter Notebookでブログを書いてみてはどうでしょうか。\n",
    "\n",
    "Jupyter Notebook Handlerについては、いろいろと足りない部分があることは把握しています。ですが、現状自分の用途では必要十分なので問題に遭遇したら都度対応する方針です。もちろんPull RequestはいつでもWelcomeです。\n",
    "\n",
    "https://github.com/naoina/hugo-jupyter-handler"
   ]
  },
  {
   "cell_type": "markdown",
   "metadata": {},
   "source": [
    "[^1]: `hugo jupyter`で検索するとたくさん出てきます。\n",
    "[^2]: https://github.com/gohugoio/hugo/blob/9ed48c1c9ae4cd9390f5ef88c8b2b6624e9e247d/hugolib/handler_page.go"
   ]
  }
 ],
 "metadata": {
  "frontmatter": {
   "date": "2017-07-27T10:58:43+09:00",
   "tags": [
    "Jupyter Notebook",
    "Hugo",
    "Go"
   ],
   "title": "Jupyter NotebookをHugoのコンテンツとして使う方法"
  },
  "kernelspec": {
   "display_name": "Python 3",
   "language": "python",
   "name": "python3"
  },
  "language_info": {
   "codemirror_mode": {
    "name": "ipython",
    "version": 3
   },
   "file_extension": ".py",
   "mimetype": "text/x-python",
   "name": "python",
   "nbconvert_exporter": "python",
   "pygments_lexer": "ipython3",
   "version": "3.6.1"
  },
  "toc": {
   "colors": {
    "hover_highlight": "#DAA520",
    "running_highlight": "#FF0000",
    "selected_highlight": "#FFD700"
   },
   "moveMenuLeft": true,
   "nav_menu": {
    "height": "84px",
    "width": "252px"
   },
   "navigate_menu": true,
   "number_sections": false,
   "sideBar": true,
   "threshold": 4,
   "toc_cell": true,
   "toc_section_display": "block",
   "toc_window_display": false,
   "widenNotebook": false
  }
 },
 "nbformat": 4,
 "nbformat_minor": 2
}
